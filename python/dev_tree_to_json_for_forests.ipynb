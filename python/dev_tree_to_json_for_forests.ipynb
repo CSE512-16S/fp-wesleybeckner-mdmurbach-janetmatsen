{
 "cells": [
  {
   "cell_type": "code",
   "execution_count": 1,
   "metadata": {
    "collapsed": true
   },
   "outputs": [],
   "source": [
    "import sys\n",
    "sys.path.append('./scripts')"
   ]
  },
  {
   "cell_type": "code",
   "execution_count": 2,
   "metadata": {
    "collapsed": false
   },
   "outputs": [
    {
     "data": {
      "text/plain": [
       "'3.5.1 |Continuum Analytics, Inc.| (default, Dec  7 2015, 11:24:55) \\n[GCC 4.2.1 (Apple Inc. build 5577)]'"
      ]
     },
     "execution_count": 2,
     "metadata": {},
     "output_type": "execute_result"
    }
   ],
   "source": [
    "sys.version"
   ]
  },
  {
   "cell_type": "code",
   "execution_count": 3,
   "metadata": {
    "collapsed": true
   },
   "outputs": [],
   "source": [
    "import numpy as np"
   ]
  },
  {
   "cell_type": "code",
   "execution_count": 4,
   "metadata": {
    "collapsed": false
   },
   "outputs": [],
   "source": [
    "import sklearn\n",
    "from IPython.display import Image \n",
    "import matplotlib.pyplot as plt\n",
    "from sklearn.externals.six import StringIO\n",
    "from sklearn.cross_validation import train_test_split\n",
    "from sklearn import metrics\n",
    "from sklearn import tree\n",
    "from sklearn.tree import DecisionTreeRegressor\n",
    "from sklearn.ensemble import RandomForestRegressor\n",
    "clf = tree.DecisionTreeRegressor()\n",
    "import tree_to_dict\n",
    "from sklearn.externals import joblib\n",
    "\n",
    "%matplotlib inline\n"
   ]
  },
  {
   "cell_type": "code",
   "execution_count": 5,
   "metadata": {
    "collapsed": true
   },
   "outputs": [],
   "source": [
    "Ht = np.loadtxt('../data/Ht.txt',skiprows=0, dtype=np.float64)\n",
    "Po = np.loadtxt('../data/Po.txt',skiprows=0, dtype=np.float64)\n",
    "Ph = np.loadtxt('../data/Ph.txt',skiprows=0, dtype=np.float64)\n",
    "Am = np.loadtxt('../data/Am.txt',skiprows=0, dtype=np.float64)\n",
    "Pl = np.loadtxt('../data/Pl.txt',skiprows=0, dtype=np.float64)\n",
    "Ht2 = np.loadtxt('../data/Height.txt',skiprows=0, dtype=np.float64)\n",
    "Po2 = np.loadtxt('../data/Potential.txt',skiprows=0, dtype=np.float64)\n",
    "Ph2 = np.loadtxt('../data/Phase.txt',skiprows=0, dtype=np.float64)\n",
    "Am2 = np.loadtxt('../data/Amplitude.txt',skiprows=0, dtype=np.float64)\n",
    "Pl2 = np.loadtxt('../data/Photoluminescence.txt',skiprows=0, dtype=np.float64)"
   ]
  },
  {
   "cell_type": "code",
   "execution_count": 6,
   "metadata": {
    "collapsed": true
   },
   "outputs": [],
   "source": [
    "# flatten the images\n",
    "Ht_flat = Ht.flatten()\n",
    "Po_flat = Po.flatten()\n",
    "Ph_flat = Ph.flatten()\n",
    "Am_flat = Am.flatten()\n",
    "Pl_flat = Pl.flatten()\n",
    "Ht2_flat = Ht2.flatten()\n",
    "Po2_flat = Po2.flatten()\n",
    "Ph2_flat = Ph2.flatten()\n",
    "Am2_flat = Am2.flatten()\n",
    "Pl2_flat = Pl2.flatten()"
   ]
  },
  {
   "cell_type": "code",
   "execution_count": 7,
   "metadata": {
    "collapsed": false
   },
   "outputs": [
    {
     "name": "stdout",
     "output_type": "stream",
     "text": [
      "(65536, 4)\n",
      "(65536,)\n"
     ]
    },
    {
     "data": {
      "text/plain": [
       "array([ 3201.,  3166.,  3208., ...,  3810.,  4895.,  7214.])"
      ]
     },
     "execution_count": 7,
     "metadata": {},
     "output_type": "execute_result"
    }
   ],
   "source": [
    "X = [Ht_flat, Po_flat, Ph_flat, Am_flat]\n",
    "X = np.array(X).T\n",
    "Y = np.array(Pl_flat).T\n",
    "print(X.shape)\n",
    "print(Y.shape)\n",
    "Y"
   ]
  },
  {
   "cell_type": "raw",
   "metadata": {},
   "source": [
    "Xtrain, Xtest, ytrain, ytest = train_test_split(X, Y, random_state=0)\n",
    "clf = DecisionTreeRegressor(max_depth=3)\n",
    "clf.fit(Xtrain, ytrain)\n",
    "ypred = clf.predict(Xtest)"
   ]
  },
  {
   "cell_type": "code",
   "execution_count": 8,
   "metadata": {
    "collapsed": true
   },
   "outputs": [],
   "source": [
    "Xtrain = np.array([Ht2_flat[0:31625], Po2_flat[0:31625], Ph2_flat[0:31625], Am2_flat[0:31625]]).T\n",
    "Xtest = np.array([Ht2_flat[31625:], Po2_flat[31625:], Ph2_flat[31625:], Am2_flat[31625:]]).T\n",
    "Ytrain = np.array(Pl2_flat[0:31625])\n",
    "Ytest = np.array(Pl2_flat[31625:])"
   ]
  },
  {
   "cell_type": "code",
   "execution_count": 9,
   "metadata": {
    "collapsed": false
   },
   "outputs": [
    {
     "data": {
      "text/plain": [
       "RandomForestRegressor(bootstrap=True, criterion='mse', max_depth=3,\n",
       "           max_features='auto', max_leaf_nodes=None, min_samples_leaf=1,\n",
       "           min_samples_split=2, min_weight_fraction_leaf=0.0,\n",
       "           n_estimators=1, n_jobs=1, oob_score=False, random_state=None,\n",
       "           verbose=0, warm_start=False)"
      ]
     },
     "execution_count": 9,
     "metadata": {},
     "output_type": "execute_result"
    }
   ],
   "source": [
    "clf_forest = RandomForestRegressor(max_depth=3, \n",
    "                                   n_estimators=1, \n",
    "                                   bootstrap=True)\n",
    "clf_forest.fit(Xtrain, Ytrain)\n",
    "\n"
   ]
  },
  {
   "cell_type": "markdown",
   "metadata": {},
   "source": [
    "http://aysent.github.io/2015/11/08/random-forest-leaf-visualization.html"
   ]
  },
  {
   "cell_type": "code",
   "execution_count": 10,
   "metadata": {
    "collapsed": false
   },
   "outputs": [
    {
     "data": {
      "text/plain": [
       "<sklearn.tree._tree.Tree at 0x10cfcae00>"
      ]
     },
     "execution_count": 10,
     "metadata": {},
     "output_type": "execute_result"
    }
   ],
   "source": [
    "clf_forest.estimators_[0].tree_"
   ]
  },
  {
   "cell_type": "code",
   "execution_count": 11,
   "metadata": {
    "collapsed": false
   },
   "outputs": [
    {
     "name": "stdout",
     "output_type": "stream",
     "text": [
      "31625\n"
     ]
    }
   ],
   "source": [
    "print(len(Ytrain))"
   ]
  },
  {
   "cell_type": "markdown",
   "metadata": {},
   "source": [
    "How much is the forest downsampling for each tree? "
   ]
  },
  {
   "cell_type": "code",
   "execution_count": 12,
   "metadata": {
    "collapsed": false
   },
   "outputs": [
    {
     "name": "stdout",
     "output_type": "stream",
     "text": [
      "inspect tree at depth 0\n",
      "inspect tree at depth 8\n",
      "inspect tree at depth 12\n",
      "inspect tree at depth 14\n",
      "this node is a leaf\n",
      "tree.value[node_index]: [[ 0.27371158]]\n",
      "samples: 1721\n",
      "count labels: <zip object at 0x10cfd9b08>\n",
      "count_labels: {}\n",
      "inspect tree at depth 13\n",
      "this node is a leaf\n",
      "tree.value[node_index]: [[ 0.3529397]]\n",
      "samples: 544\n",
      "count labels: <zip object at 0x10cfd9b08>\n",
      "count_labels: {}\n",
      "inspect tree at depth 9\n",
      "inspect tree at depth 11\n",
      "this node is a leaf\n",
      "tree.value[node_index]: [[ 0.49779823]]\n",
      "samples: 1631\n",
      "count labels: <zip object at 0x10cfd9b08>\n",
      "count_labels: {}\n",
      "inspect tree at depth 10\n",
      "this node is a leaf\n",
      "tree.value[node_index]: [[ 0.32888425]]\n",
      "samples: 186\n",
      "count labels: <zip object at 0x10cfd9b08>\n",
      "count_labels: {}\n",
      "inspect tree at depth 1\n",
      "inspect tree at depth 5\n",
      "inspect tree at depth 7\n",
      "this node is a leaf\n",
      "tree.value[node_index]: [[ 0.66351462]]\n",
      "samples: 6674\n",
      "count labels: <zip object at 0x10cfd9b08>\n",
      "count_labels: {}\n",
      "inspect tree at depth 6\n",
      "this node is a leaf\n",
      "tree.value[node_index]: [[ 0.80706228]]\n",
      "samples: 8891\n",
      "count labels: <zip object at 0x10cfd9b08>\n",
      "count_labels: {}\n",
      "inspect tree at depth 2\n",
      "inspect tree at depth 4\n",
      "this node is a leaf\n",
      "tree.value[node_index]: [[ 0.43424483]]\n",
      "samples: 351\n",
      "count labels: <zip object at 0x10cfd9b08>\n",
      "count_labels: {}\n",
      "inspect tree at depth 3\n",
      "this node is a leaf\n",
      "tree.value[node_index]: [[ 0.]]\n",
      "samples: 71\n",
      "count labels: <zip object at 0x10cfd9b08>\n",
      "count_labels: {}\n",
      "{'children': [{'children': [{'children': [{'name': '1721 points'}, {'name': '544 points'}]}, {'children': [{'name': '1631 points'}, {'name': '186 points'}]}]}, {'children': [{'children': [{'name': '6674 points'}, {'name': '8891 points'}]}, {'children': [{'name': '351 points'}, {'name': '71 points'}]}]}]}\n"
     ]
    }
   ],
   "source": [
    "print(tree_to_dict.rules(clf_forest.estimators_[0].tree_, ['Ht2_flat', \\\n",
    "            'Po2_flat', 'Ph2_flat', 'Am2_flat'], 'photoluminescence'))"
   ]
  },
  {
   "cell_type": "code",
   "execution_count": 13,
   "metadata": {
    "collapsed": false
   },
   "outputs": [
    {
     "data": {
      "text/plain": [
       "19991"
      ]
     },
     "execution_count": 13,
     "metadata": {},
     "output_type": "execute_result"
    }
   ],
   "source": [
    "3972 + 16019"
   ]
  },
  {
   "cell_type": "code",
   "execution_count": 14,
   "metadata": {
    "collapsed": false
   },
   "outputs": [
    {
     "data": {
      "text/plain": [
       "19962"
      ]
     },
     "execution_count": 14,
     "metadata": {},
     "output_type": "execute_result"
    }
   ],
   "source": [
    "3281 + 16681"
   ]
  },
  {
   "cell_type": "code",
   "execution_count": null,
   "metadata": {
    "collapsed": true
   },
   "outputs": [],
   "source": []
  }
 ],
 "metadata": {
  "kernelspec": {
   "display_name": "IPython (Python 3)",
   "language": "python",
   "name": "python3"
  },
  "language_info": {
   "codemirror_mode": {
    "name": "ipython",
    "version": 3
   },
   "file_extension": ".py",
   "mimetype": "text/x-python",
   "name": "python",
   "nbconvert_exporter": "python",
   "pygments_lexer": "ipython3",
   "version": "3.5.1"
  }
 },
 "nbformat": 4,
 "nbformat_minor": 0
}
